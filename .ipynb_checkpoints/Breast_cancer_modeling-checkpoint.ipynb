{
 "cells": [
  {
   "cell_type": "code",
   "execution_count": 2,
   "id": "347da5cd-d692-4193-83f4-3e5e6200db46",
   "metadata": {},
   "outputs": [],
   "source": [
    "import os\n",
    "import cv2\n",
    "import numpy as np\n",
    "import pandas as pd\n"
   ]
  },
  {
   "cell_type": "code",
   "execution_count": 6,
   "id": "8bd30a64-35ac-4e32-90f9-98524d3525be",
   "metadata": {},
   "outputs": [
    {
     "name": "stdout",
     "output_type": "stream",
     "text": [
      "============================================================\n",
      "✅ Step 1: Load Data and Extract Features\n",
      "============================================================\n"
     ]
    }
   ],
   "source": [
    "print(\"=\"*60)\n",
    "print(\"✅ Step 1: Load Data and Extract Features\")\n",
    "print(\"=\"*60)"
   ]
  },
  {
   "cell_type": "code",
   "execution_count": 4,
   "id": "f410fe83-6b94-4879-ba10-6c8d085c38ea",
   "metadata": {},
   "outputs": [],
   "source": [
    "import os\n",
    "import cv2\n",
    "import numpy as np\n",
    "import pandas as pd\n",
    "\n",
    "def extract_tumor_area(mask_path):\n",
    "    \"\"\"Load mask and calculate tumor area (white pixels).\"\"\"\n",
    "    mask = cv2.imread(mask_path, cv2.IMREAD_GRAYSCALE)\n",
    "    if mask is None:\n",
    "        return 0\n",
    "    return np.sum(mask > 0)\n",
    "\n",
    "def process_dataset(base_path):\n",
    "    \"\"\"Create labeled dataset from benign/malignant folders.\"\"\"\n",
    "    data = []\n",
    "    for label_folder in [\"benign\", \"malignant\"]:\n",
    "        folder_path = os.path.join(base_path, label_folder)\n",
    "        for filename in os.listdir(folder_path):\n",
    "            if \"_mask\" in filename or not filename.endswith(\".png\"):\n",
    "                continue\n",
    "            image_path = os.path.join(folder_path, filename)\n",
    "            mask_path = os.path.join(folder_path, filename.replace(\".png\", \"_mask.png\"))\n",
    "\n",
    "            tumor_area = extract_tumor_area(mask_path)\n",
    "\n",
    "            # Assign priority based on label and tumor area\n",
    "            if label_folder == \"benign\":\n",
    "                priority = \"Low\"\n",
    "            else:\n",
    "                priority = \"High\" if tumor_area > 200 else \"Medium\"\n",
    "\n",
    "            data.append({\n",
    "                \"image\": image_path,\n",
    "                \"mask\": mask_path,\n",
    "                \"tumor_area\": tumor_area,\n",
    "                \"priority\": priority\n",
    "            })\n",
    "\n",
    "    return pd.DataFrame(data)\n"
   ]
  },
  {
   "cell_type": "code",
   "execution_count": 7,
   "id": "26256bf6-d2c5-44ab-aa48-3266b5b3c193",
   "metadata": {},
   "outputs": [
    {
     "name": "stdout",
     "output_type": "stream",
     "text": [
      "============================================================\n",
      "✅ Step 2: Process Training Set\n",
      "============================================================\n"
     ]
    }
   ],
   "source": [
    "print(\"=\"*60)\n",
    "print(\"✅ Step 2: Process Training Set\")\n",
    "print(\"=\"*60)"
   ]
  },
  {
   "cell_type": "code",
   "execution_count": 8,
   "id": "c11c25a0-81d2-4d54-9077-2a01d9ac5680",
   "metadata": {},
   "outputs": [
    {
     "data": {
      "text/html": [
       "<div>\n",
       "<style scoped>\n",
       "    .dataframe tbody tr th:only-of-type {\n",
       "        vertical-align: middle;\n",
       "    }\n",
       "\n",
       "    .dataframe tbody tr th {\n",
       "        vertical-align: top;\n",
       "    }\n",
       "\n",
       "    .dataframe thead th {\n",
       "        text-align: right;\n",
       "    }\n",
       "</style>\n",
       "<table border=\"1\" class=\"dataframe\">\n",
       "  <thead>\n",
       "    <tr style=\"text-align: right;\">\n",
       "      <th></th>\n",
       "      <th>image</th>\n",
       "      <th>mask</th>\n",
       "      <th>tumor_area</th>\n",
       "      <th>priority</th>\n",
       "    </tr>\n",
       "  </thead>\n",
       "  <tbody>\n",
       "    <tr>\n",
       "      <th>0</th>\n",
       "      <td>training_set\\benign\\benign (1).png</td>\n",
       "      <td>training_set\\benign\\benign (1)_mask.png</td>\n",
       "      <td>984</td>\n",
       "      <td>Low</td>\n",
       "    </tr>\n",
       "    <tr>\n",
       "      <th>1</th>\n",
       "      <td>training_set\\benign\\benign (10).png</td>\n",
       "      <td>training_set\\benign\\benign (10)_mask.png</td>\n",
       "      <td>32918</td>\n",
       "      <td>Low</td>\n",
       "    </tr>\n",
       "    <tr>\n",
       "      <th>2</th>\n",
       "      <td>training_set\\benign\\benign (100).png</td>\n",
       "      <td>training_set\\benign\\benign (100)_mask.png</td>\n",
       "      <td>7090</td>\n",
       "      <td>Low</td>\n",
       "    </tr>\n",
       "    <tr>\n",
       "      <th>3</th>\n",
       "      <td>training_set\\benign\\benign (101).png</td>\n",
       "      <td>training_set\\benign\\benign (101)_mask.png</td>\n",
       "      <td>4167</td>\n",
       "      <td>Low</td>\n",
       "    </tr>\n",
       "    <tr>\n",
       "      <th>4</th>\n",
       "      <td>training_set\\benign\\benign (102).png</td>\n",
       "      <td>training_set\\benign\\benign (102)_mask.png</td>\n",
       "      <td>18857</td>\n",
       "      <td>Low</td>\n",
       "    </tr>\n",
       "  </tbody>\n",
       "</table>\n",
       "</div>"
      ],
      "text/plain": [
       "                                  image  \\\n",
       "0    training_set\\benign\\benign (1).png   \n",
       "1   training_set\\benign\\benign (10).png   \n",
       "2  training_set\\benign\\benign (100).png   \n",
       "3  training_set\\benign\\benign (101).png   \n",
       "4  training_set\\benign\\benign (102).png   \n",
       "\n",
       "                                        mask  tumor_area priority  \n",
       "0    training_set\\benign\\benign (1)_mask.png         984      Low  \n",
       "1   training_set\\benign\\benign (10)_mask.png       32918      Low  \n",
       "2  training_set\\benign\\benign (100)_mask.png        7090      Low  \n",
       "3  training_set\\benign\\benign (101)_mask.png        4167      Low  \n",
       "4  training_set\\benign\\benign (102)_mask.png       18857      Low  "
      ]
     },
     "execution_count": 8,
     "metadata": {},
     "output_type": "execute_result"
    }
   ],
   "source": [
    "# Assuming you're running from the root folder where training_set is located\n",
    "df = process_dataset(\"training_set\")\n",
    "df.head()"
   ]
  },
  {
   "cell_type": "code",
   "execution_count": 9,
   "id": "709e2c9e-feb1-4ed6-8ef8-2311e5a3a88c",
   "metadata": {},
   "outputs": [
    {
     "name": "stdout",
     "output_type": "stream",
     "text": [
      "============================================================\n",
      "✅ Step 3: Explore the Data\n",
      "============================================================\n"
     ]
    }
   ],
   "source": [
    "print(\"=\"*60)\n",
    "print(\"✅ Step 3: Explore the Data\")\n",
    "print(\"=\"*60)"
   ]
  },
  {
   "cell_type": "code",
   "execution_count": 10,
   "id": "5ad12e3f-dc68-45cd-8574-df6fdde3ff4d",
   "metadata": {},
   "outputs": [
    {
     "name": "stdout",
     "output_type": "stream",
     "text": [
      "Shape: (547, 4)\n",
      "\n",
      "Class distribution:\n",
      "priority\n",
      "Low     387\n",
      "High    160\n",
      "Name: count, dtype: int64\n"
     ]
    },
    {
     "data": {
      "image/png": "[encoded data removed]",
      "text/plain": [
       "<Figure size 800x500 with 1 Axes>"
      ]
     },
     "metadata": {},
     "output_type": "display_data"
    }
   ],
   "source": [
    "# Summary\n",
    "print(\"Shape:\", df.shape)\n",
    "print(\"\\nClass distribution:\")\n",
    "print(df[\"priority\"].value_counts())\n",
    "\n",
    "# Visualize tumor area by class\n",
    "import seaborn as sns\n",
    "import matplotlib.pyplot as plt\n",
    "\n",
    "plt.figure(figsize=(8, 5))\n",
    "sns.boxplot(x=\"priority\", y=\"tumor_area\", data=df)\n",
    "plt.title(\"Tumor Area Distribution by Priority\")\n",
    "plt.show()\n"
   ]
  },
  {
   "cell_type": "code",
   "execution_count": 12,
   "id": "2a0c861d-4d58-4fc0-b590-9db28411bd3b",
   "metadata": {},
   "outputs": [
    {
     "name": "stdout",
     "output_type": "stream",
     "text": [
      "============================================================\n",
      "✅ Step 4: Train-Test Split and Model Training \n",
      " We'll use tumor_area as the feature and priority as the label to train a Random Forest Classifier.\n",
      "============================================================\n"
     ]
    }
   ],
   "source": [
    "print(\"=\"*60)\n",
    "print(\"✅ Step 4: Train-Test Split and Model Training \\n We'll use tumor_area as the feature and priority as the label to train a Random Forest Classifier.\")\n",
    "print(\"=\"*60)"
   ]
  },
  {
   "cell_type": "code",
   "execution_count": 13,
   "id": "81e73903-f61f-400f-b42c-be6947831fc4",
   "metadata": {},
   "outputs": [],
   "source": [
    "from sklearn.model_selection import train_test_split\n",
    "from sklearn.ensemble import RandomForestClassifier\n",
    "from sklearn.metrics import classification_report, accuracy_score, f1_score\n",
    "\n",
    "# 1. Prepare features (X) and labels (y)\n",
    "X = df[[\"tumor_area\"]]  # using tumor_area as the only feature\n",
    "y = df[\"priority\"]\n",
    "\n",
    "# 2. Encode labels to numeric values\n",
    "from sklearn.preprocessing import LabelEncoder\n",
    "le = LabelEncoder()\n",
    "y_encoded = le.fit_transform(y)\n",
    "\n",
    "# 3. Train-test split\n",
    "X_train, X_test, y_train, y_test = train_test_split(X, y_encoded, test_size=0.2, random_state=42)\n",
    "\n",
    "# 4. Train Random Forest Classifier\n",
    "clf = RandomForestClassifier(n_estimators=100, random_state=42)\n",
    "clf.fit(X_train, y_train)\n",
    "\n",
    "# 5. Make predictions\n",
    "y_pred = clf.predict(X_test)\n"
   ]
  },
  {
   "cell_type": "code",
   "execution_count": 14,
   "id": "c2a09fa3-8311-45a4-aa9b-0aa6454fd87c",
   "metadata": {},
   "outputs": [
    {
     "name": "stdout",
     "output_type": "stream",
     "text": [
      "============================================================\n",
      "✅ Step 5: Evaluate the Model\n",
      "============================================================\n"
     ]
    }
   ],
   "source": [
    "print(\"=\"*60)\n",
    "print(\"✅ Step 5: Evaluate the Model\")\n",
    "print(\"=\"*60)"
   ]
  },
  {
   "cell_type": "code",
   "execution_count": 15,
   "id": "a4f5d2e2-5969-4c4c-b28a-4f9b9e564c8c",
   "metadata": {},
   "outputs": [
    {
     "name": "stdout",
     "output_type": "stream",
     "text": [
      "🔍 Classification Report:\n",
      "              precision    recall  f1-score   support\n",
      "\n",
      "        High       0.31      0.39      0.35        28\n",
      "         Low       0.77      0.71      0.74        82\n",
      "\n",
      "    accuracy                           0.63       110\n",
      "   macro avg       0.54      0.55      0.54       110\n",
      "weighted avg       0.66      0.63      0.64       110\n",
      "\n",
      "✅ Accuracy: 0.63\n",
      "✅ F1-Score: 0.64\n"
     ]
    }
   ],
   "source": [
    "# Decode predictions back to labels\n",
    "y_test_labels = le.inverse_transform(y_test)\n",
    "y_pred_labels = le.inverse_transform(y_pred)\n",
    "\n",
    "# Classification report\n",
    "print(\"🔍 Classification Report:\")\n",
    "print(classification_report(y_test_labels, y_pred_labels))\n",
    "\n",
    "# Accuracy & F1-score\n",
    "acc = accuracy_score(y_test_labels, y_pred_labels)\n",
    "f1 = f1_score(y_test_labels, y_pred_labels, average=\"weighted\")\n",
    "\n",
    "print(f\"✅ Accuracy: {acc:.2f}\")\n",
    "print(f\"✅ F1-Score: {f1:.2f}\")\n"
   ]
  },
  {
   "cell_type": "code",
   "execution_count": 16,
   "id": "669e6cf7-1ff4-45f3-b187-b3fa9f69e6be",
   "metadata": {},
   "outputs": [
    {
     "name": "stdout",
     "output_type": "stream",
     "text": [
      "============================================================\n",
      "✅ Step 6: Plot Confusion Matrix\n",
      "============================================================\n"
     ]
    }
   ],
   "source": [
    "print(\"=\"*60)\n",
    "print(\"✅ Step 6: Plot Confusion Matrix\")\n",
    "print(\"=\"*60)"
   ]
  },
  {
   "cell_type": "code",
   "execution_count": 17,
   "id": "1e969d0f-5ba0-40ac-aae0-3236e9344c13",
   "metadata": {},
   "outputs": [
    {
     "data": {
      "image/png": "[encoded data removed]",
      "text/plain": [
       "<Figure size 640x480 with 2 Axes>"
      ]
     },
     "metadata": {},
     "output_type": "display_data"
    }
   ],
   "source": [
    "from sklearn.metrics import ConfusionMatrixDisplay\n",
    "import matplotlib.pyplot as plt\n",
    "\n",
    "ConfusionMatrixDisplay.from_estimator(clf, X_test, y_test, display_labels=le.classes_, cmap=\"Blues\")\n",
    "plt.title(\"Confusion Matrix\")\n",
    "plt.show()\n"
   ]
  },
  {
   "cell_type": "code",
   "execution_count": null,
   "id": "a078df1b-23a9-41b2-a182-c25f8e4da1b2",
   "metadata": {},
   "outputs": [],
   "source": []
  }
 ],
 "metadata": {
  "kernelspec": {
   "display_name": "Python 3 (ipykernel)",
   "language": "python",
   "name": "python3"
  },
  "language_info": {
   "codemirror_mode": {
    "name": "ipython",
    "version": 3
   },
   "file_extension": ".py",
   "mimetype": "text/x-python",
   "name": "python",
   "nbconvert_exporter": "python",
   "pygments_lexer": "ipython3",
   "version": "3.11.9"
  }
 },
 "nbformat": 4,
 "nbformat_minor": 5
}
